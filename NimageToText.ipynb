{
 "cells": [
  {
   "cell_type": "code",
   "execution_count": null,
   "id": "f485f8e7",
   "metadata": {},
   "outputs": [],
   "source": [
    "!pip install pytesseract\n",
    "!pip install pillow"
   ]
  },
  {
   "cell_type": "code",
   "execution_count": 1,
   "id": "7d75a3b6",
   "metadata": {},
   "outputs": [],
   "source": [
    "import os\n",
    "import cv2\n",
    "import numpy as np"
   ]
  },
  {
   "cell_type": "code",
   "execution_count": 2,
   "id": "a1fab899",
   "metadata": {},
   "outputs": [
    {
     "name": "stdout",
     "output_type": "stream",
     "text": [
      "; Koneat ryt, eve acl ag\n",
      "Pajorrstion sybnitiey iy me in Aas\n",
      "Porm iN Correct, HR on veld, f\n",
      "\n",
      "de sup pering ocurets 0 aud olan &\n",
      "\n"
     ]
    }
   ],
   "source": [
    "from PIL import Image\n",
    "from pytesseract import pytesseract\n",
    "import matplotlib.pyplot as plt\n",
    "\n",
    "path_to_tesseract = r'C:\\Program Files\\Tesseract-OCR\\tesseract.exe'\n",
    "\n",
    "path_to_images = r'C:\\\\Users\\\\Dell\\\\Desktop\\\\seminarCA\\\\image\\\\'\n",
    "# cv2. imshow(\"\",img)\n",
    "# cv2.waitKey()\n",
    "\n",
    "\n",
    "pytesseract.tesseract_cmd = path_to_tesseract\n",
    "\n",
    "text_data = open( 'C:\\\\Users\\\\Dell\\\\Desktop\\\\seminarCA\\\\output2.txt', 'w' )\n",
    "\n",
    "for root, dirs, file_names in os.walk(path_to_images):\n",
    "    for file_name in file_names:\n",
    "        img = cv2.imread(path_to_images + file_name)\n",
    "#         img = cv2.resize(img, (880, 540))\n",
    "#greyConverstion\n",
    "        img = cv2.cvtColor(img, cv2.COLOR_BGR2GRAY)\n",
    "#threshing\n",
    "        imgthresh = cv2.adaptiveThreshold(img,255,cv2.ADAPTIVE_THRESH_GAUSSIAN_C,cv2.THRESH_BINARY,11,2)\n",
    "        # cv2. imshow(\"\",imgthresh)\n",
    "        # cv2.waitKey(0)\n",
    "#thining\n",
    "        kernel = np.ones((1,1),np.uint8)\n",
    "        imgf = cv2.erode(imgthresh,kernel,iterations = 1)\n",
    "#          cv2. imshow(\"\",imgf)\n",
    "#          cv2.waitKey(0)\n",
    "# NoiseReduction\n",
    "        imgf=np.uint8(imgf)\n",
    "        converted_img = cv2.cvtColor(imgf, cv2.COLOR_GRAY2BGR)\n",
    "        noiseFimage = cv2.fastNlMeansDenoisingColored(converted_img, None, 10, 10, 7, 15)\n",
    "#         cv2. imshow(\"\",noiseFimage)\n",
    "#         cv2.waitKey(0)\n",
    "#Extract text from image\n",
    "        text = pytesseract.image_to_string(img)\n",
    "        print(text)\n",
    "        text_data.write(text)\n",
    "text_data.close()"
   ]
  },
  {
   "cell_type": "code",
   "execution_count": 3,
   "id": "703e9ee0",
   "metadata": {},
   "outputs": [
    {
     "name": "stdout",
     "output_type": "stream",
     "text": [
      "Transform your handwriting or calligraphy into a font!  valligraphr  This is the first line of this text example.  This is the second line of the same text. Tesseract is an open source text recognition (OCR) Engine, available under the Apache 2.0 license. It can be used directly, or (for programmers) using an API to extract printed text from images. It supports a wide variety of languages. Tesseract doesn't have a built-in GUI, but there are several available from the 3rdParty page. Tesseract is compatible with many programming languages and frameworks through wrappers that can be found here. It can be used with the existing layout analysis to recognize text within a large document, or it can be used in conjunction with an external text detector to recognize text from an image of a single text line. Metagenomics is the study of reconstructing the genetic materials of different organisms from their natural habitat because it is really difficult to isolate and clone some organism in in-vitro. It is also known as environmental genomics, eco-genomics or community genomics. In order to reassemble the reads obtained from shotgun sequencing, genome assembly plays an important role in this process. The main challenge appears in separating and assembling the genomes obtained from different organisms as they are very large in number. The shotgun reads contain fragments from different genomes of the several microorganisms. So, before assembling them, it is needed to cluster the genome of different microorganisms separately. For this, classification of the jumbled genomes from various organism's different clustering techniques are evolved like binning, boosting, bagging, stacking. Among them, nowadays, binning is the most widely used algorithm. In other words, genomes are grouped into operational taxonomic units (OTUs) for further taxonomic profiling and down-streaming functional analysis. This OTU clustering is considered as binning. Both supervised and unsupervised Learning methods have been employed in binning. For binning different unsupervised clustering-based software are  available viz. MetaCon. CoMst. MetaConClust. \n"
     ]
    }
   ],
   "source": [
    " mytext = open(r'C:/Users/Dell/Desktop/seminarCA/output2.txt', encoding ='utf8')\n",
    "text_data = mytext.read().replace(\"\\n\",\" \")\n",
    "print(text_data)\n",
    "text_dataS = open( 'C:\\\\Users\\\\Dell\\\\Desktop\\\\seminarCA\\\\text_dataR.txt', 'w' )\n",
    "text_dataS.write(str(text_data))\n",
    "text_dataS.close()"
   ]
  },
  {
   "cell_type": "code",
   "execution_count": null,
   "id": "693e61b6",
   "metadata": {},
   "outputs": [],
   "source": [
    "pip install gTTs"
   ]
  },
  {
   "cell_type": "code",
   "execution_count": 4,
   "id": "f90d527a",
   "metadata": {},
   "outputs": [],
   "source": [
    "\n",
    "from gtts import gTTS\n",
    "import os\n",
    "mytext = open('C:\\\\Users\\\\Dell\\\\Desktop\\\\seminarCA\\\\text_dataR.txt','r', encoding ='utf8')\n",
    "text_data = mytext.read()\n",
    "language = 'en'\n",
    "myobj = gTTS(text=text_data, lang=language, slow=False)\n",
    "myobj.save('C:\\\\Users\\\\Dell\\\\Desktop\\\\seminarCA\\\\English.mp3')\n"
   ]
  },
  {
   "cell_type": "code",
   "execution_count": null,
   "id": "38cff512",
   "metadata": {},
   "outputs": [],
   "source": [
    "pip install -U deep-translator"
   ]
  },
  {
   "cell_type": "code",
   "execution_count": 12,
   "id": "19d54f96",
   "metadata": {},
   "outputs": [
    {
     "name": "stdout",
     "output_type": "stream",
     "text": [
      "अपनी लिखावट या सुलेख को एक फ़ॉन्ट में बदलें! valligraphr यह इस पाठ उदाहरण की पहली पंक्ति है। यह उसी पाठ की दूसरी पंक्ति है। Tesseract एक ओपन सोर्स टेक्स्ट रिकग्निशन (OCR) इंजन है, जो Apache 2.0 लाइसेंस के तहत उपलब्ध है। छवियों से मुद्रित पाठ निकालने के लिए इसका उपयोग सीधे, या (प्रोग्रामर के लिए) एपीआई का उपयोग करके किया जा सकता है। यह विभिन्न प्रकार की भाषाओं का समर्थन करता है। Tesseract में अंतर्निहित GUI नहीं है, लेकिन तृतीय पक्ष पृष्ठ से कई उपलब्ध हैं। Tesseract कई प्रोग्रामिंग भाषाओं और रैपर के माध्यम से चौखटे के साथ संगत है जो यहां पाया जा सकता है। इसका उपयोग मौजूदा लेआउट विश्लेषण के साथ एक बड़े दस्तावेज़ के भीतर पाठ को पहचानने के लिए किया जा सकता है, या इसका उपयोग किसी एकल टेक्स्ट लाइन की छवि से टेक्स्ट को पहचानने के लिए बाहरी टेक्स्ट डिटेक्टर के संयोजन के साथ किया जा सकता है। मेटागेनोमिक्स विभिन्न जीवों की आनुवंशिक सामग्री को उनके प्राकृतिक आवास से पुनर्निर्माण का अध्ययन है क्योंकि इन-विट्रो में कुछ जीवों को अलग करना और क्लोन करना वास्तव में मुश्किल है। इसे पर्यावरण जीनोमिक्स, इको-जीनोमिक्स या सामुदायिक जीनोमिक्स के रूप में भी जाना जाता है। शॉटगन अनुक्रमण से प्राप्त रीड्स को फिर से इकट्ठा करने के लिए, जीनोम असेंबली इस प्रक्रिया में एक महत्वपूर्ण भूमिका निभाती है। विभिन्न जीवों से प्राप्त जीनोम को अलग करने और संयोजन करने में मुख्य चुनौती दिखाई देती है क्योंकि वे संख्या में बहुत बड़ी हैं। शॉटगन में कई सूक्ष्मजीवों के विभिन्न जीनोम के टुकड़े होते हैं। इसलिए, उन्हें असेंबल करने से पहले, अलग-अलग सूक्ष्मजीवों के जीनोम को अलग-अलग क्लस्टर करने की आवश्यकता होती है। इसके लिए विभिन्न जीवों की विभिन्न क्लस्टरिंग तकनीकों से जंबल्ड जीनोम का वर्गीकरण विकसित किया जाता है जैसे बिनिंग, बूस्टिंग, बैगिंग, स्टैकिंग। उनमें से, आजकल, बिनिंग सबसे व्यापक रूप से उपयोग किया जाने वाला एल्गोरिथम है। दूसरे शब्दों में, जीनोम को आगे टैक्सोनोमिक प्रोफाइलिंग और डाउन-स्ट्रीमिंग कार्यात्मक विश्लेषण के लिए परिचालन टैक्सोनोमिक इकाइयों (ओटीयू) में बांटा गया है। इस OTU क्लस्टरिंग को बिनिंग माना जाता है। पर्यवेक्षित और अनुपयोगी दोनों शिक्षण विधियों को बिनिंग में नियोजित किया गया है। बिनिंग के लिए अलग-अलग गैर-पर्यवेक्षित क्लस्टरिंग-आधारित सॉफ़्टवेयर उपलब्ध हैं। मेटाकॉन। कॉमस्ट। मेटाकॉनक्लस्ट।\n"
     ]
    }
   ],
   "source": [
    "from deep_translator import GoogleTranslator\n",
    "# mytext = open('C:\\\\Users\\\\Dell\\\\Desktop\\\\seminarCA\\\\text_dataR.txt','r', encoding ='utf8')\n",
    "# # translated = GoogleTranslator(source='auto', target='hi').translate_batch(mytext)\n",
    "translated = GoogleTranslator(source='auto', target='hi').translate_file('C:\\\\Users\\\\Dell\\\\Desktop\\\\seminarCA\\\\text_dataR.txt')\n",
    "print(translated)\n",
    "text_dataS = open( 'C:\\\\Users\\\\Dell\\\\Desktop\\\\seminarCA\\\\text_datahindi.txt', 'w', encoding = 'utf8' )\n",
    "text_dataS.write(translated)\n",
    "text_dataS.close()"
   ]
  },
  {
   "cell_type": "code",
   "execution_count": null,
   "id": "a396a088",
   "metadata": {},
   "outputs": [],
   "source": [
    "from gtts import gTTS\n",
    "import os\n",
    "mytext = open('C:\\\\Users\\\\Dell\\\\Desktop\\\\seminarCA\\\\text_datahindi.txt','r', encoding ='utf8')\n",
    "text_data = mytext.read()\n",
    "language = 'hi'\n",
    "myobj = gTTS(text=text_data, lang=language, slow=False)\n",
    "myobj.save('C:\\\\Users\\\\Dell\\\\Desktop\\\\seminarCA\\\\hindi.mp3')\n",
    "\n"
   ]
  },
  {
   "cell_type": "code",
   "execution_count": null,
   "id": "260a800a",
   "metadata": {},
   "outputs": [],
   "source": [
    "\n",
    "\n",
    "       "
   ]
  }
 ],
 "metadata": {
  "kernelspec": {
   "display_name": "Python 3 (ipykernel)",
   "language": "python",
   "name": "python3"
  },
  "language_info": {
   "codemirror_mode": {
    "name": "ipython",
    "version": 3
   },
   "file_extension": ".py",
   "mimetype": "text/x-python",
   "name": "python",
   "nbconvert_exporter": "python",
   "pygments_lexer": "ipython3",
   "version": "3.9.12"
  }
 },
 "nbformat": 4,
 "nbformat_minor": 5
}
